{
 "cells": [
  {
   "cell_type": "code",
   "execution_count": 19,
   "metadata": {},
   "outputs": [],
   "source": [
    "import os\n",
    "def Main():\n",
    "    #Get and validify sequence\n",
    "    valid_mRNA = True\n",
    "    seq = input(\"Please input your DNA or mRNA sequence: \")\n",
    "    try:\n",
    "        seq_str = str(seq)\n",
    "    except: \n",
    "        print(\"Sequence has invalid characters. Terminating program.\")\n",
    "        return \"invalid\"\n",
    "    mRNA_seq = \"\"\n",
    "    \n",
    "    if ((seq_str.find(\"T\") != -1) or (seq_str.find(\"c\") != -1)\n",
    "        or (seq_str.find(\"a\") != -1) or (seq_str.find(\"g\") != -1)\n",
    "        or (seq_str.find(\"t\") != -1)):\n",
    "        for char in seq_str:\n",
    "            if ((char == \"T\") or (char ==\"t\")\n",
    "                or (char == \"u\")):\n",
    "                mRNA_seq += \"U\";\n",
    "            elif (char == \"g\"): mRNA_seq += \"G\"\n",
    "            elif (char == \"c\"): mRNA_seq += \"C\"\n",
    "            elif (char == \"a\"): mRNA_seq += \"A\"\n",
    "            else: mRNA_seq += char\n",
    "    else: mRNA_seq = seq #if no typing corrections\n",
    "    for char in mRNA_seq:\n",
    "        if ((char != \"A\") and (char != \"U\")\n",
    "            and (char != \"C\") and (char !=\"G\")):\n",
    "            valid_mRNA = False\n",
    "            print(\"WRONG\")\n",
    "    if valid_mRNA == True:\n",
    "        print(\"It's good\")\n",
    "        print(mRNA_seq)\n",
    "    else: \n",
    "        print(\"Sequence has invalid characters. Terminating program.\")\n",
    "        return \"invalid\"\n",
    "       \n",
    "    seq_start = mRNA_seq.find(\"AUG\")\n",
    "    if (seq_start == -1): \n",
    "        print(\"This sequence has no start codon. Continue?\")\n",
    "        seq_cont = input(\"[Y]es or [N]o: \" )\n",
    "        if ((seq_cont == \"Y\") or (seq_cont == \"y\")\n",
    "               or (seq_cont == \"N\") or (seq_cont == \"n\")):\n",
    "            cont = True\n",
    "        else: cont = False\n",
    "        while (cont == False):\n",
    "            seq_cont = input(\"Invalid response. Continue?\\n[Y]es or [N]o: \")\n",
    "            if ((seq_cont == \"Y\") or (seq_cont == \"y\")\n",
    "               or (seq_cont == \"N\") or (seq_cont == \"n\")):\n",
    "                cont = True\n",
    "                \n",
    "            print(str(cont))\n",
    "        if ((seq_cont == \"N\") or (seq_cont == \"n\")):\n",
    "            print(\"Terminating program.\")\n",
    "            return \"invalid\"\n",
    "        else: print(\"Proceeding.\")\n",
    "\n",
    "    #import host codon sequence\n",
    "    #sequences obtained from GenScript site\n",
    "    \n",
    "\n",
    "\n",
    "    "
   ]
  },
  {
   "cell_type": "code",
   "execution_count": 21,
   "metadata": {},
   "outputs": [
    {
     "name": "stdout",
     "output_type": "stream",
     "text": [
      "Please input your DNA or mRNA sequence: \n",
      "It's good\n",
      "\n",
      "This sequence has no start codon. Continue?\n",
      "[Y]es or [N]o: y\n",
      "Proceeding.\n"
     ]
    }
   ],
   "source": [
    "response = Main()"
   ]
  },
  {
   "cell_type": "code",
   "execution_count": null,
   "metadata": {},
   "outputs": [],
   "source": []
  },
  {
   "cell_type": "code",
   "execution_count": null,
   "metadata": {},
   "outputs": [],
   "source": []
  }
 ],
 "metadata": {
  "kernelspec": {
   "display_name": "Python 3",
   "language": "python",
   "name": "python3"
  },
  "language_info": {
   "codemirror_mode": {
    "name": "ipython",
    "version": 3
   },
   "file_extension": ".py",
   "mimetype": "text/x-python",
   "name": "python",
   "nbconvert_exporter": "python",
   "pygments_lexer": "ipython3",
   "version": "3.8.5"
  }
 },
 "nbformat": 4,
 "nbformat_minor": 4
}
