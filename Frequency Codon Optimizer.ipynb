{
 "cells": [
  {
   "cell_type": "code",
   "execution_count": 3,
   "metadata": {},
   "outputs": [],
   "source": [
    "import os\n",
    "def Main():\n",
    "    #Get and validify sequence\n",
    "    valid_mRNA = True\n",
    "    seq = input(\"Please input your DNA or mRNA sequence: \")\n",
    "    seq_str = str(seq)\n",
    "    mRNA_seq = \"\"\n",
    "    \n",
    "    if ((seq_str.find(\"T\") != -1) or (seq_str.find(\"c\") != -1)\n",
    "        or (seq_str.find(\"a\") != -1) or (seq_str.find(\"g\") != -1)\n",
    "        or (seq_str.find(\"t\") != -1)):\n",
    "        for char in seq_str:\n",
    "            if ((char == \"T\") or (char ==\"t\")\n",
    "                or (char == \"u\")):\n",
    "                mRNA_seq += \"U\";\n",
    "            elif (char == \"g\"): mRNA_seq += \"G\"\n",
    "            elif (char == \"c\"): mRNA_seq += \"C\"\n",
    "            elif (char == \"a\"): mRNA_seq += \"A\"\n",
    "            else: mRNA_seq += char\n",
    "    else: mRNA_seq = seq #if no typing corrections\n",
    "    for char in mRNA_seq:\n",
    "        if ((char != \"A\") and (char != \"U\")\n",
    "            and (char != \"C\") and (char !=\"G\")):\n",
    "            valid_mRNA = False\n",
    "            print(\"WRONG\")\n",
    "    if valid_mRNA == True:\n",
    "        print(\"It's good\")\n",
    "        print(mRNA_seq)\n",
    "    else: \n",
    "        print(\"Sequence has invalid characters. Terminating program.\")\n",
    "        return \"invalid\"\n",
    "                \n",
    "    print(\"Looks at me, moving forward and stuff\")\n",
    "    \n",
    " \n",
    "\n",
    "\n",
    "    "
   ]
  },
  {
   "cell_type": "code",
   "execution_count": 8,
   "metadata": {},
   "outputs": [
    {
     "name": "stdout",
     "output_type": "stream",
     "text": [
      "Please input your DNA or mRNA sequence: AAAAAAAAAAAAAAAAAAAAAAAAAAAAAA\n",
      "It's good\n",
      "AAAAAAAAAAAAAAAAAAAAAAAAAAAAAA\n",
      "Looks at me, moving forward and stuff\n"
     ]
    }
   ],
   "source": [
    "response = Main()"
   ]
  },
  {
   "cell_type": "code",
   "execution_count": null,
   "metadata": {},
   "outputs": [],
   "source": []
  },
  {
   "cell_type": "code",
   "execution_count": null,
   "metadata": {},
   "outputs": [],
   "source": []
  }
 ],
 "metadata": {
  "kernelspec": {
   "display_name": "Python 3",
   "language": "python",
   "name": "python3"
  },
  "language_info": {
   "codemirror_mode": {
    "name": "ipython",
    "version": 3
   },
   "file_extension": ".py",
   "mimetype": "text/x-python",
   "name": "python",
   "nbconvert_exporter": "python",
   "pygments_lexer": "ipython3",
   "version": "3.8.5"
  }
 },
 "nbformat": 4,
 "nbformat_minor": 4
}
